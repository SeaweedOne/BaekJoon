{
 "cells": [
  {
   "cell_type": "markdown",
   "metadata": {},
   "source": [
    "상근이의 동생 상수는 수학을 정말 못한다. 상수는 숫자를 읽는데 문제가 있다. 이렇게 수학을 못하는 상수를 위해서 상근이는 수의 크기를 비교하는 문제를 내주었다. 상근이는 세 자리 수 두 개를 칠판에 써주었다. 그 다음에 크기가 큰 수를 말해보라고 했다.   \n",
    "상수는 수를 다른 사람과 다르게 거꾸로 읽는다. 예를 들어, 734와 893을 칠판에 적었다면, 상수는 이 수를 437과 398로 읽는다. 따라서, 상수는 두 수중 큰 수인 437을 큰 수라고 말할 것이다.   \n",
    "두 수가 주어졌을 때, 상수의 대답을 출력하는 프로그램을 작성하시오."
   ]
  },
  {
   "cell_type": "markdown",
   "metadata": {},
   "source": [
    "풀이 1"
   ]
  },
  {
   "cell_type": "code",
   "execution_count": null,
   "metadata": {},
   "outputs": [],
   "source": [
    "num1, num2 = input().split()\n",
    "\n",
    "num1 = int(num1[::-1]) #역순출력 \n",
    "num2 = int(num2[::-1])\n",
    "\n",
    "if (num1>num2): print(num1)\n",
    "else: print(num2)"
   ]
  },
  {
   "cell_type": "markdown",
   "metadata": {},
   "source": [
    "풀이 2"
   ]
  },
  {
   "cell_type": "code",
   "execution_count": null,
   "metadata": {},
   "outputs": [],
   "source": [
    "num1, num2 = input().split()\n",
    "\n",
    "newNum1 = 0\n",
    "newNum2 = 0\n",
    "for i in range(len(num1)):\n",
    "    if i == 0 : newNum1  +=int(num1[i])  \n",
    "    else: newNum1  += int(num1[i])*(10**i) \n",
    "        \n",
    "for i in range(len(num2)):\n",
    "    if i == 0 : newNum2  +=int(num2[i])  \n",
    "    else: newNum2  += int(num2[i])*(10**i) \n",
    "        \n",
    "\n",
    "if newNum1 > newNum2 : \n",
    "    print(newNum1)\n",
    "else: \n",
    "    print(newNum2)"
   ]
  }
 ],
 "metadata": {
  "kernelspec": {
   "display_name": "Python 3",
   "language": "python",
   "name": "python3"
  },
  "language_info": {
   "codemirror_mode": {
    "name": "ipython",
    "version": 3
   },
   "file_extension": ".py",
   "mimetype": "text/x-python",
   "name": "python",
   "nbconvert_exporter": "python",
   "pygments_lexer": "ipython3",
   "version": "3.8.5"
  }
 },
 "nbformat": 4,
 "nbformat_minor": 4
}
