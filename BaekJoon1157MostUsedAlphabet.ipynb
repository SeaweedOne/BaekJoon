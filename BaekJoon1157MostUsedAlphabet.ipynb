{
 "cells": [
  {
   "cell_type": "markdown",
   "metadata": {},
   "source": [
    "알파벳 대소문자로 된 단어가 주어지면, 이 단어에서 가장 많이 사용된 알파벳이 무엇인지 알아내는 프로그램을 작성하시오. 단, 대문자와 소문자를 구분하지 않는다.   \n",
    "첫째 줄에 이 단어에서 가장 많이 사용된 알파벳을 대문자로 출력한다. 단, 가장 많이 사용된 알파벳이 여러 개 존재하는 경우에는 ?를 출력한다."
   ]
  },
  {
   "cell_type": "code",
   "execution_count": null,
   "metadata": {},
   "outputs": [],
   "source": [
    "import string \n",
    "\n",
    "userInput = input().upper()\n",
    "alp = string.ascii_uppercase #알파벳 생성\n",
    "\n",
    "dic = {}\n",
    "for i in range(len(alp)):\n",
    "    alpin = alp[i]\n",
    "    temp = userInput.count(alpin) #문자열에 알파벳 하나씩 카운트 \n",
    "    if temp > 0:  #존재시 딕셔너리에 추가 {알파벳 : 사용횟수}\n",
    "        dic[alpin] = temp\n",
    "        \n",
    "dictMax = max(dic.values()) #딕셔너리에서 최대 value값 찾기\n",
    "result = [k for k,v in dic.items() if max(dic.values()) ==v] #찾은 최대값으로 key값 가져오기\n",
    "if len(result)>1: print(\"?\") #max value로 찾은 key값이 1개 이상이라면 ?출력\n",
    "else:print(result[0]) #아니라면 찾은 key 출력 "
   ]
  }
 ],
 "metadata": {
  "kernelspec": {
   "display_name": "Python 3",
   "language": "python",
   "name": "python3"
  },
  "language_info": {
   "codemirror_mode": {
    "name": "ipython",
    "version": 3
   },
   "file_extension": ".py",
   "mimetype": "text/x-python",
   "name": "python",
   "nbconvert_exporter": "python",
   "pygments_lexer": "ipython3",
   "version": "3.7.6"
  }
 },
 "nbformat": 4,
 "nbformat_minor": 4
}
