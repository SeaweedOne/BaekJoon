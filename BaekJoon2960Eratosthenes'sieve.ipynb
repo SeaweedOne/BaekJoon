{
 "cells": [
  {
   "cell_type": "markdown",
   "metadata": {},
   "source": [
    "에라토스테네스의 체는 N보다 작거나 같은 모든 소수를 찾는 유명한 알고리즘이다.\n",
    "이 알고리즘은 다음과 같다.\n",
    "2부터 N까지 모든 정수를 적는다.\n",
    "아직 지우지 않은 수 중 가장 작은 수를 찾는다.   \n",
    "이것을 P라고 하고, 이 수는 소수이다.\n",
    "P를 지우고, 아직 지우지 않은 P의 배수를 크기 순서대로 지운다.   \n",
    "아직 모든 수를 지우지 않았다면, 다시 2번 단계로 간다.   \n",
    "N, K가 주어졌을 때, K번째 지우는 수를 구하는 프로그램을 작성하시오.\n",
    "\n",
    "첫째 줄에 N과 K가 주어진다. (1 ≤ K < N, max(2, K) < N ≤ 1000)"
   ]
  },
  {
   "cell_type": "code",
   "execution_count": null,
   "metadata": {},
   "outputs": [],
   "source": [
    "N , K = map(int,input().split(\" \")) # N/K를 받아온다\n",
    "arr = [i for i in range(2,N+1)] # 2~N까지의 수만큼 배열 생성 (인덱스이기 때문에 +1 해줌)\n",
    "\n",
    "while K >= 0 : \n",
    "    minNum = min(arr) # 배열의 최소값 (맨 앞 값) 변수에 넣어주기 \n",
    "    temp = 0 # 삭제할 항목을 저장할 변수 \n",
    "    for a in arr: # 리스트의 요소 하나씩 가지고오기\n",
    "        if (a % minNum) == 0: # 요소가 미니멈(P) 의 배수라면 아래 로직 수행\n",
    "            temp = a # 먼저 temp 변수에 a 값 저장해준 뒤 배열에서 삭제  \n",
    "            arr.remove(a)\n",
    "            K -=1 # K번째 수를 찾기위해 K-1을 해줌 \n",
    "        if K == 0: # K가 0이되면 temp에 저장해둔 a를 출력한 뒤 K를 -1로 바꿔 while문 탈출 혹시몰라 break 한번 더 !\n",
    "            print(temp)\n",
    "            K = -1\n",
    "            break"
   ]
  }
 ],
 "metadata": {
  "kernelspec": {
   "display_name": "Python 3",
   "language": "python",
   "name": "python3"
  },
  "language_info": {
   "codemirror_mode": {
    "name": "ipython",
    "version": 3
   },
   "file_extension": ".py",
   "mimetype": "text/x-python",
   "name": "python",
   "nbconvert_exporter": "python",
   "pygments_lexer": "ipython3",
   "version": "3.7.6"
  }
 },
 "nbformat": 4,
 "nbformat_minor": 4
}
