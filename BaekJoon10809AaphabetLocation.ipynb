{
 "cells": [
  {
   "cell_type": "markdown",
   "metadata": {},
   "source": [
    "알파벳 소문자로만 이루어진 단어가 주어진다. 각각의 알파벳에 대해서, 단어에 포함되어 있는 경우에는 처음 등장하는 위치를,  \n",
    "포함되어 있지 않은 경우에는 -1을 출력하는 프로그램을 작성하시오."
   ]
  },
  {
   "cell_type": "code",
   "execution_count": null,
   "metadata": {},
   "outputs": [
    {
     "name": "stdin",
     "output_type": "stream",
     "text": [
      "단어 혹은 문장을 입력하세요.  hello\n"
     ]
    },
    {
     "name": "stdout",
     "output_type": "stream",
     "text": [
      "a  = not exist\n",
      "b  = not exist\n",
      "c  = not exist\n",
      "d  = not exist\n",
      "e  =  2 번째\n",
      "f  = not exist\n",
      "g  = not exist\n",
      "h  =  1 번째\n",
      "i  = not exist\n",
      "j  = not exist\n",
      "k  = not exist\n",
      "l  =  3 번째\n",
      "m  = not exist\n",
      "n  = not exist\n",
      "o  =  5 번째\n",
      "p  = not exist\n",
      "q  = not exist\n",
      "r  = not exist\n",
      "s  = not exist\n",
      "t  = not exist\n",
      "u  = not exist\n",
      "v  = not exist\n",
      "w  = not exist\n",
      "x  = not exist\n",
      "y  = not exist\n",
      "z  = not exist\n"
     ]
    }
   ],
   "source": [
    "\n",
    "import string \n",
    "while(True):\n",
    "    userinput = input(\"단어 혹은 문장을 입력하세요. \")\n",
    "    alp = string.ascii_lowercase\n",
    "    for i in range(len(alp)):\n",
    "        alpin = alp[i]\n",
    "        if alpin in userinput :print(alpin,\" = \",userinput.find(alpin)+1,\"번째\")\n",
    "        else: print(alpin,\" = not exist\")"
   ]
  },
  {
   "cell_type": "code",
   "execution_count": null,
   "metadata": {},
   "outputs": [],
   "source": []
  }
 ],
 "metadata": {
  "kernelspec": {
   "display_name": "Python 3",
   "language": "python",
   "name": "python3"
  },
  "language_info": {
   "codemirror_mode": {
    "name": "ipython",
    "version": 3
   },
   "file_extension": ".py",
   "mimetype": "text/x-python",
   "name": "python",
   "nbconvert_exporter": "python",
   "pygments_lexer": "ipython3",
   "version": "3.7.6"
  }
 },
 "nbformat": 4,
 "nbformat_minor": 4
}
