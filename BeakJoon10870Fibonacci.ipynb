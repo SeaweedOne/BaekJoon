{
 "cells": [
  {
   "cell_type": "markdown",
   "metadata": {},
   "source": [
    "n이 주어졌을 때, n번째 피보나치 수를 구하는 프로그램을 작성하시오."
   ]
  },
  {
   "cell_type": "code",
   "execution_count": 14,
   "metadata": {},
   "outputs": [
    {
     "name": "stdin",
     "output_type": "stream",
     "text": [
      " 82\n"
     ]
    },
    {
     "name": "stdout",
     "output_type": "stream",
     "text": [
      "61305790721611591\n"
     ]
    }
   ],
   "source": [
    "n = int(input()) - 1 #사용자 인풋값을 받아 n번째 피보나치 숫자 출력 (a,b를 이미 정의하고 시작했음으로 -1을 빼주었다.)\n",
    "a,b = 0,1 #피보나치는 0,1로 시작한다.\n",
    "result = 0 #결과값을 나타낼 변수 설정\n",
    "while True:\n",
    "    if n == 0: #n이 0이되면 결과값을 출력하고 반복문 탈출\n",
    "        break\n",
    "    result = a+b\n",
    "    a = b   #result에 이전값 + a+1값이 들어가기 위해  a에  b가 대입되고 b에는 a+b값인 결과값이 대입된다.\n",
    "    b = result\n",
    "    n-=1 #연산을 한번 수행할 때 마다 num값을 하나씩 뺴준다 \n",
    "    \n",
    "print(result)"
   ]
  },
  {
   "cell_type": "code",
   "execution_count": null,
   "metadata": {},
   "outputs": [],
   "source": []
  }
 ],
 "metadata": {
  "kernelspec": {
   "display_name": "Python 3",
   "language": "python",
   "name": "python3"
  },
  "language_info": {
   "codemirror_mode": {
    "name": "ipython",
    "version": 3
   },
   "file_extension": ".py",
   "mimetype": "text/x-python",
   "name": "python",
   "nbconvert_exporter": "python",
   "pygments_lexer": "ipython3",
   "version": "3.7.6"
  }
 },
 "nbformat": 4,
 "nbformat_minor": 4
}
